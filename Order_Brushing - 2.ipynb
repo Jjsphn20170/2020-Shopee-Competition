{
 "cells": [
  {
   "cell_type": "code",
   "execution_count": null,
   "metadata": {},
   "outputs": [],
   "source": [
    "import pandas as pd\n",
    "import datetime\n",
    "df = pd.read_csv(r'order_brush_order.csv')\n",
    "df.shape"
   ]
  },
  {
   "cell_type": "code",
   "execution_count": null,
   "metadata": {},
   "outputs": [],
   "source": [
    "df.head(3)"
   ]
  },
  {
   "cell_type": "code",
   "execution_count": null,
   "metadata": {},
   "outputs": [],
   "source": [
    "# df[df['userid'] == 196962305]\n",
    "df['event_time'] = df['event_time'].apply(lambda x: datetime.datetime.strptime(x, '%Y-%m-%d %H:%M:%S'))\n",
    "#pd.to_datetime(df['event_time'], format = '%Y-%m%d %H:%M:%S', errors = 'ignore')"
   ]
  },
  {
   "cell_type": "code",
   "execution_count": null,
   "metadata": {},
   "outputs": [],
   "source": [
    "shop = df.groupby('shopid', as_index = False).apply(lambda x: x.sort_values('event_time'))\n",
    "shop.head()"
   ]
  },
  {
   "cell_type": "code",
   "execution_count": null,
   "metadata": {},
   "outputs": [],
   "source": [
    "#shop['user_count'] = shop.groupby(['shopid', 'userid'])['userid'].transform('count')\n",
    "#suspect = shop[shop['user_count'] >= 3]\n",
    "#suspect = suspect.sort_values(['shopid', 'userid'])\n",
    "#suspect"
   ]
  },
  {
   "cell_type": "code",
   "execution_count": null,
   "metadata": {},
   "outputs": [],
   "source": [
    "from collections import defaultdict\n",
    "from datetime import timedelta\n",
    "d1 = defaultdict(list)\n",
    "for name, group in shop.groupby('shopid'):\n",
    "    #print(name)\n",
    "    order_count = len(group)\n",
    "    brushing = False\n",
    "    for idx in range(order_count - 2):\n",
    "        time_limit = group['event_time'].iloc[idx] + timedelta(seconds = 3601)\n",
    "        orders_1hr = group[group['event_time'] <= time_limit]\n",
    "        unique_users = len(group['userid'].unique().tolist())\n",
    "        orders = group.shape[0]\n",
    "        concentrate_rate = orders/unique_users\n",
    "        if concentrate_rate >= 3:\n",
    "            # suspicious shops\n",
    "            group['user_count'] = group.groupby('userid')['userid'].transform('count')\n",
    "            group = group.sort_values('user_count')\n",
    "            print(group)\n",
    "            max_user = group[group['userid'] == max(group['user_count'])]['userid'].unique()\n",
    "            d1[name].append(max_user)\n",
    "    #if brushing:\n",
    "        #d1[name[0]].append(str(name[1]))\n",
    "#for key in d1.keys():\n",
    "    #d1[key] = '&'.join(d1[key])\n",
    "    #else:\n",
    "    #    d1[name[0]].append(0)\n",
    "d1\n",
    "#d1[10159]"
   ]
  },
  {
   "cell_type": "code",
   "execution_count": null,
   "metadata": {},
   "outputs": [],
   "source": [
    "new = pd.DataFrame(columns = ['shopid', 'userid'])\n",
    "new['shopid'] = df['shopid'].unique()"
   ]
  },
  {
   "cell_type": "code",
   "execution_count": null,
   "metadata": {},
   "outputs": [],
   "source": [
    "'''for idx in range(new.shape[0]):\n",
    "    print(idx, new['shopid'].iloc[idx])\n",
    "    if new['shopid'].iloc[idx] in d1:\n",
    "        new['userid'].iloc[idx] = d1[idx]\n",
    "    else:\n",
    "        new['userid'].iloc[idx] = 0'''\n",
    "new = pd.DataFrame(list(d1.items()), columns = ['shopid', 'userid'])\n",
    "new\n",
    "#new = new.replace({'[]':0})"
   ]
  },
  {
   "cell_type": "code",
   "execution_count": null,
   "metadata": {},
   "outputs": [],
   "source": [
    "sub = pd.merge(new, df[['shopid']].drop_duplicates(), on = 'shopid', how = 'right')\n",
    "ans = sub.fillna(0)\n",
    "#ans[ans['userid'] == '[]']"
   ]
  },
  {
   "cell_type": "code",
   "execution_count": null,
   "metadata": {},
   "outputs": [],
   "source": [
    "ans.to_csv(r'order_submission2.csv', index = False)"
   ]
  },
  {
   "cell_type": "code",
   "execution_count": null,
   "metadata": {},
   "outputs": [],
   "source": [
    "ans.shape[0]"
   ]
  },
  {
   "cell_type": "code",
   "execution_count": null,
   "metadata": {},
   "outputs": [],
   "source": [
    "df['total_orders'] = df.groupby('shopid')['shopid'].transform('count')"
   ]
  },
  {
   "cell_type": "code",
   "execution_count": null,
   "metadata": {},
   "outputs": [],
   "source": [
    "df['total_users'] = df.groupby(['shopid', 'userid'])['shopid'].transform('count')\n",
    "df['concentrate_rate'] = df['total_orders']/df['total_users']\n",
    "df"
   ]
  }
 ],
 "metadata": {
  "kernelspec": {
   "display_name": "Python 3",
   "language": "python",
   "name": "python3"
  },
  "language_info": {
   "codemirror_mode": {
    "name": "ipython",
    "version": 3
   },
   "file_extension": ".py",
   "mimetype": "text/x-python",
   "name": "python",
   "nbconvert_exporter": "python",
   "pygments_lexer": "ipython3",
   "version": "3.6.10"
  }
 },
 "nbformat": 4,
 "nbformat_minor": 2
}
